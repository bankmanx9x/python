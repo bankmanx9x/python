{
  "nbformat": 4,
  "nbformat_minor": 0,
  "metadata": {
    "colab": {
      "name": "sql.ipynb",
      "provenance": [],
      "authorship_tag": "ABX9TyN5UhpLbX347KjBD4Nb9KVo",
      "include_colab_link": true
    },
    "kernelspec": {
      "name": "python3",
      "display_name": "Python 3"
    },
    "language_info": {
      "name": "python"
    }
  },
  "cells": [
    {
      "cell_type": "markdown",
      "metadata": {
        "id": "view-in-github",
        "colab_type": "text"
      },
      "source": [
        "<a href=\"https://colab.research.google.com/github/bankmanx9x/python/blob/master/01%20sql.ipynb\" target=\"_parent\"><img src=\"https://colab.research.google.com/assets/colab-badge.svg\" alt=\"Open In Colab\"/></a>"
      ]
    },
    {
      "cell_type": "code",
      "execution_count": null,
      "metadata": {
        "id": "l50lTe2uQz0E"
      },
      "outputs": [],
      "source": [
        "! pip install pymysql"
      ]
    },
    {
      "cell_type": "code",
      "source": [
        "# TODO: ใส่ database credential จากลิงค์ database ด้านบน (เพื่อการเรียนรู้)\n",
        "import os\n",
        "\n",
        "class Config:\n",
        "  MYSQL_HOST = '34.136.184.58'\n",
        "  MYSQL_PORT = 3306              # default สำหรับ port MySQL\n",
        "  MYSQL_USER = 'r2de2'\n",
        "  MYSQL_PASSWORD = 'I_Love_Data_Engineer'\n",
        "  MYSQL_DB = 'r2de2'\n",
        "  MYSQL_CHARSET = 'utf8mb4'"
      ],
      "metadata": {
        "id": "5dsp56SnRVPB"
      },
      "execution_count": null,
      "outputs": []
    },
    {
      "cell_type": "code",
      "source": [
        "import pymysql\n",
        "\n",
        "# Connect to the database\n",
        "connection = pymysql.connect(host=Config.MYSQL_HOST,\n",
        "                             port=Config.MYSQL_PORT,\n",
        "                             user=Config.MYSQL_USER,\n",
        "                             password=Config.MYSQL_PASSWORD,\n",
        "                             db=Config.MYSQL_DB,\n",
        "                             charset=Config.MYSQL_CHARSET,\n",
        "                             cursorclass=pymysql.cursors.DictCursor)"
      ],
      "metadata": {
        "id": "jCql1Eu9RX1v"
      },
      "execution_count": null,
      "outputs": []
    },
    {
      "cell_type": "code",
      "source": [
        "connection"
      ],
      "metadata": {
        "colab": {
          "base_uri": "https://localhost:8080/"
        },
        "id": "2PxdXwnzRZ9o",
        "outputId": "b5ba50cd-2b17-4242-9439-d4251ed634cd"
      },
      "execution_count": null,
      "outputs": [
        {
          "output_type": "execute_result",
          "data": {
            "text/plain": [
              "<pymysql.connections.Connection at 0x7f401846f090>"
            ]
          },
          "metadata": {},
          "execution_count": 4
        }
      ]
    },
    {
      "cell_type": "code",
      "source": [
        "# list all tables ด้วย SQL คำสั่ง show tables;\n",
        "cursor = connection.cursor()\n",
        "cursor.execute(\"show tables;\")\n",
        "tables = cursor.fetchall()\n",
        "cursor.close()\n",
        "print(tables)"
      ],
      "metadata": {
        "colab": {
          "base_uri": "https://localhost:8080/"
        },
        "id": "ea4Cyq9sRbnv",
        "outputId": "1f92fe9b-e161-4ecf-e58a-58aeb8f8151d"
      },
      "execution_count": null,
      "outputs": [
        {
          "output_type": "stream",
          "name": "stdout",
          "text": [
            "[{'Tables_in_r2de2': 'audible_data'}, {'Tables_in_r2de2': 'audible_transaction'}]\n"
          ]
        }
      ]
    },
    {
      "cell_type": "code",
      "source": [
        "# ใข้ with statement แทน cursor.close()\n",
        "# TODO: มาลองเขียน SQL Query ข้อมูลจาก table audible_data ดูกัน\n",
        "\n",
        "with connection.cursor() as cursor:\n",
        "  cursor.execute(\"SELECT * FROM audible_data;\")\n",
        "  result = cursor.fetchall()\n",
        "\n",
        "print(\"number of rows: \", len(result))"
      ],
      "metadata": {
        "colab": {
          "base_uri": "https://localhost:8080/"
        },
        "id": "1B-ng44_RfU_",
        "outputId": "173b1346-5e05-46ad-eddc-6a52a46830e2"
      },
      "execution_count": null,
      "outputs": [
        {
          "output_type": "stream",
          "name": "stdout",
          "text": [
            "number of rows:  2269\n"
          ]
        }
      ]
    },
    {
      "cell_type": "code",
      "source": [
        "result"
      ],
      "metadata": {
        "id": "wQzgNiVufOJq"
      },
      "execution_count": null,
      "outputs": []
    },
    {
      "cell_type": "code",
      "source": [
        "import pandas as pd"
      ],
      "metadata": {
        "id": "JpQ8qWrXfIQJ"
      },
      "execution_count": null,
      "outputs": []
    },
    {
      "cell_type": "code",
      "source": [
        "audible_data = pd.DataFrame(result)\n",
        "\n",
        "len(audible_data)"
      ],
      "metadata": {
        "colab": {
          "base_uri": "https://localhost:8080/"
        },
        "id": "lrtUXxh8fV1u",
        "outputId": "7274b2d4-0d26-4127-8728-a7fbd68edcf1"
      },
      "execution_count": null,
      "outputs": [
        {
          "output_type": "execute_result",
          "data": {
            "text/plain": [
              "2269"
            ]
          },
          "metadata": {},
          "execution_count": 18
        }
      ]
    }
  ]
}