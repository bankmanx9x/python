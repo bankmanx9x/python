{
  "nbformat": 4,
  "nbformat_minor": 0,
  "metadata": {
    "colab": {
      "name": "dataTH_2_pyspark",
      "provenance": [],
      "authorship_tag": "ABX9TyMHb19fQdCPqTcyDXySA6s5",
      "include_colab_link": true
    },
    "kernelspec": {
      "name": "python3",
      "display_name": "Python 3"
    },
    "language_info": {
      "name": "python"
    }
  },
  "cells": [
    {
      "cell_type": "markdown",
      "metadata": {
        "id": "view-in-github",
        "colab_type": "text"
      },
      "source": [
        "<a href=\"https://colab.research.google.com/github/bankmanx9x/python/blob/master/02%20PySpark.ipynb\" target=\"_parent\"><img src=\"https://colab.research.google.com/assets/colab-badge.svg\" alt=\"Open In Colab\"/></a>"
      ]
    },
    {
      "cell_type": "code",
      "execution_count": null,
      "metadata": {
        "id": "sSYjjaYFtccR"
      },
      "outputs": [],
      "source": [
        "!apt-get update                                                                          # อัพเดท Package ทั้งหมดใน VM ตัวนี้\n",
        "!apt-get install openjdk-8-jdk-headless -qq > /dev/null                                  # ติดตั้ง Java Development Kit (จำเป็นสำหรับการติดตั้ง Spark)\n",
        "!wget -q https://archive.apache.org/dist/spark/spark-3.1.2/spark-3.1.2-bin-hadoop2.7.tgz # ติดตั้ง Spark 3.1.2\n",
        "!tar xzvf spark-3.1.2-bin-hadoop2.7.tgz                                                  # Unzip ไฟล์ Spark 3.1.2\n",
        "!pip install -q findspark==1.3.0                                                         # ติดตั้ง Package Python สำหรับเชื่อมต่อกับ Spark "
      ]
    },
    {
      "cell_type": "code",
      "source": [
        "# Set enviroment variable ให้ Python รู้จัก Spark\n",
        "import os\n",
        "os.environ[\"JAVA_HOME\"] = \"/usr/lib/jvm/java-8-openjdk-amd64\"\n",
        "os.environ[\"SPARK_HOME\"] = \"/content/spark-3.1.2-bin-hadoop2.7\""
      ],
      "metadata": {
        "id": "zBPMEX-TuRtH"
      },
      "execution_count": null,
      "outputs": []
    },
    {
      "cell_type": "code",
      "source": [
        "# ติดตั้ง PySpark ลงใน Python\n",
        "!pip install pyspark==3.1.2"
      ],
      "metadata": {
        "id": "wWp8l62muVeI"
      },
      "execution_count": null,
      "outputs": []
    },
    {
      "cell_type": "code",
      "source": [
        "# Server ของ Google Colab มีกี่ Core\n",
        "!cat /proc/cpuinfo"
      ],
      "metadata": {
        "id": "PsTNNz1ouzmq"
      },
      "execution_count": null,
      "outputs": []
    },
    {
      "cell_type": "code",
      "source": [
        "# สร้าง Spark Session เพิ้อใช้งาน Spark\n",
        "from pyspark.sql import SparkSession\n",
        "spark = SparkSession.builder.master(\"local[*]\").getOrCreate()"
      ],
      "metadata": {
        "id": "V9QQQXtsu3Bj"
      },
      "execution_count": null,
      "outputs": []
    },
    {
      "cell_type": "code",
      "source": [
        "# สร้าง Spark Session เพิ้อใช้งาน Spark\n",
        "from pyspark.sql import SparkSession\n",
        "spark = SparkSession.builder.master(\"local[*]\").getOrCreate()"
      ],
      "metadata": {
        "id": "RWx_hdeAu4hS"
      },
      "execution_count": null,
      "outputs": []
    },
    {
      "cell_type": "code",
      "source": [
        "# ดูเวอร์ชั่น Spark\n",
        "spark.version"
      ],
      "metadata": {
        "colab": {
          "base_uri": "https://localhost:8080/",
          "height": 35
        },
        "id": "WyvnaMnou5x7",
        "outputId": "a278bb6a-32c0-4d30-b1dc-db35d1dd06bb"
      },
      "execution_count": null,
      "outputs": [
        {
          "output_type": "execute_result",
          "data": {
            "text/plain": [
              "'3.1.2'"
            ],
            "application/vnd.google.colaboratory.intrinsic+json": {
              "type": "string"
            }
          },
          "metadata": {},
          "execution_count": 7
        }
      ]
    },
    {
      "cell_type": "markdown",
      "source": [
        "คำอธิบายคำสั่ง:\n",
        "\n",
        "wget = คำสั่งในการดาวน์โหลดไฟล์\n",
        "\n",
        "wget -O = ตั้งชื่อไฟล์"
      ],
      "metadata": {
        "id": "kO-D5_YHvMBX"
      }
    },
    {
      "cell_type": "code",
      "source": [
        "# Download Data File\n",
        "!wget -O data.zip https://file.designil.com/zdOfUE+\n",
        "!unzip data.zip"
      ],
      "metadata": {
        "id": "dNj41a3gvNBB"
      },
      "execution_count": null,
      "outputs": []
    },
    {
      "cell_type": "code",
      "source": [
        "dt = spark.read.csv('/content/ws2_data.csv', header = True, inferSchema = True, )"
      ],
      "metadata": {
        "id": "fBFmuy1gvWap"
      },
      "execution_count": null,
      "outputs": []
    },
    {
      "cell_type": "markdown",
      "source": [
        "# Step 2) Data Profiling"
      ],
      "metadata": {
        "id": "522i6oIyvdlM"
      }
    },
    {
      "cell_type": "code",
      "source": [
        "# ดูว่ามีคอลัมน์อะไรบ้าง\n",
        "dt"
      ],
      "metadata": {
        "colab": {
          "base_uri": "https://localhost:8080/"
        },
        "id": "V0jsQqn2vg4i",
        "outputId": "96181920-9c4d-4099-e0e6-00b5c449aeb1"
      },
      "execution_count": null,
      "outputs": [
        {
          "output_type": "execute_result",
          "data": {
            "text/plain": [
              "DataFrame[timestamp: string, user_id: string, book_id: int, country: string, price: double]"
            ]
          },
          "metadata": {},
          "execution_count": 10
        }
      ]
    },
    {
      "cell_type": "code",
      "source": [
        "# ดูข้อมูล\n",
        "dt.show()"
      ],
      "metadata": {
        "id": "LJ2bluH6vlFq"
      },
      "execution_count": null,
      "outputs": []
    },
    {
      "cell_type": "code",
      "source": [
        "# ดูข้อมูล\n",
        "dt.show()"
      ],
      "metadata": {
        "id": "h9JhoyIsvtA8"
      },
      "execution_count": null,
      "outputs": []
    },
    {
      "cell_type": "code",
      "source": [
        "# ดูประเภทข้อมูลแต่ละคอลัมน์\n",
        "dt.dtypes"
      ],
      "metadata": {
        "id": "5eqS_9vXvuks"
      },
      "execution_count": null,
      "outputs": []
    },
    {
      "cell_type": "code",
      "source": [
        "# อีกคำสั่งในการดูข้อมูลแต่ละคอลัมน์ (Schema)\n",
        "dt.printSchema()"
      ],
      "metadata": {
        "colab": {
          "base_uri": "https://localhost:8080/"
        },
        "id": "fu0X181lvzEc",
        "outputId": "a85acebf-528f-4e14-d76d-529df4223d3b"
      },
      "execution_count": null,
      "outputs": [
        {
          "output_type": "stream",
          "name": "stdout",
          "text": [
            "root\n",
            " |-- timestamp: string (nullable = true)\n",
            " |-- user_id: string (nullable = true)\n",
            " |-- book_id: integer (nullable = true)\n",
            " |-- country: string (nullable = true)\n",
            " |-- price: double (nullable = true)\n",
            "\n"
          ]
        }
      ]
    },
    {
      "cell_type": "code",
      "source": [
        "# นับจำนวนแถวและ column\n",
        "print((dt.count(), len(dt.columns)))"
      ],
      "metadata": {
        "colab": {
          "base_uri": "https://localhost:8080/"
        },
        "id": "wqzZPazFv0pk",
        "outputId": "ba77a694-c0cf-4743-e25b-fe8308fc3f79"
      },
      "execution_count": null,
      "outputs": [
        {
          "output_type": "stream",
          "name": "stdout",
          "text": [
            "(500000, 5)\n"
          ]
        }
      ]
    },
    {
      "cell_type": "code",
      "source": [
        "# สรุปข้อมูลสถิติ\n",
        "dt.describe().show()"
      ],
      "metadata": {
        "colab": {
          "base_uri": "https://localhost:8080/"
        },
        "id": "Q59R7RiWv2YD",
        "outputId": "13ef0750-6c18-40c9-f690-589306a93790"
      },
      "execution_count": null,
      "outputs": [
        {
          "output_type": "stream",
          "name": "stdout",
          "text": [
            "+-------+-------------------+--------+-----------------+-------+------------------+\n",
            "|summary|          timestamp| user_id|          book_id|country|             price|\n",
            "+-------+-------------------+--------+-----------------+-------+------------------+\n",
            "|  count|             500000|  499998|           500000| 500000|            500000|\n",
            "|   mean|               null|Infinity|       740.377786|   null|31.459311680039008|\n",
            "| stddev|               null|     NaN|559.9366172146341|   null|10.945931459891705|\n",
            "|    min|2021-05-01 00:00:04|00000f49|                1|Algeria|               0.0|\n",
            "|    max|2021-07-31 23:59:55|ffffe3e7|             2269|  Yemen|              84.0|\n",
            "+-------+-------------------+--------+-----------------+-------+------------------+\n",
            "\n"
          ]
        }
      ]
    },
    {
      "cell_type": "code",
      "source": [
        "# อีกคำสั่งในการสรุปข้อมูลสถิติ\n",
        "# ReferenceL: https://spark.apache.org/docs/latest/api/python/reference/api/pyspark.sql.DataFrame.summary.html\n",
        "\n",
        "dt.summary().show()"
      ],
      "metadata": {
        "colab": {
          "base_uri": "https://localhost:8080/"
        },
        "id": "JdveAGXfv6dU",
        "outputId": "3de89977-923d-49ee-e7a6-8395640ff376"
      },
      "execution_count": null,
      "outputs": [
        {
          "output_type": "stream",
          "name": "stdout",
          "text": [
            "+-------+-------------------+-----------+-----------------+-------+------------------+\n",
            "|summary|          timestamp|    user_id|          book_id|country|             price|\n",
            "+-------+-------------------+-----------+-----------------+-------+------------------+\n",
            "|  count|             500000|     499998|           500000| 500000|            500000|\n",
            "|   mean|               null|   Infinity|       740.377786|   null|31.459311680039008|\n",
            "| stddev|               null|        NaN|559.9366172146341|   null|10.945931459891705|\n",
            "|    min|2021-05-01 00:00:04|   00000f49|                1|Algeria|               0.0|\n",
            "|    25%|               null|2.4050123E7|              262|   null|             24.95|\n",
            "|    50%|               null|  7.04742E7|              614|   null|             29.99|\n",
            "|    75%|               null|  5.5726E81|             1217|   null|             34.99|\n",
            "|    max|2021-07-31 23:59:55|   ffffe3e7|             2269|  Yemen|              84.0|\n",
            "+-------+-------------------+-----------+-----------------+-------+------------------+\n",
            "\n"
          ]
        }
      ]
    },
    {
      "cell_type": "code",
      "source": [
        "# สรุปข้อมูลสถิติเฉพาะ column ที่ระบุ\n",
        "dt.select(\"price\").describe().show()"
      ],
      "metadata": {
        "colab": {
          "base_uri": "https://localhost:8080/"
        },
        "id": "NSvoQeKsv8jc",
        "outputId": "4d690ecf-2c20-42b7-d3cc-a2f65dd4785c"
      },
      "execution_count": null,
      "outputs": [
        {
          "output_type": "stream",
          "name": "stdout",
          "text": [
            "+-------+------------------+\n",
            "|summary|             price|\n",
            "+-------+------------------+\n",
            "|  count|            500000|\n",
            "|   mean|31.459311680039008|\n",
            "| stddev|10.945931459891705|\n",
            "|    min|               0.0|\n",
            "|    max|              84.0|\n",
            "+-------+------------------+\n",
            "\n"
          ]
        }
      ]
    },
    {
      "cell_type": "markdown",
      "source": [
        "### Exercise 1\n",
        "\n",
        "คอลัมน์ไหนมี Missing Value บ้าง? และแสดงข้อมูลแถวที่มี Missing Value ให้ดูหน่อย"
      ],
      "metadata": {
        "id": "2reg1tpxzZ0H"
      }
    },
    {
      "cell_type": "code",
      "source": [
        "dt.where(dt.user_id.isNull()).show()"
      ],
      "metadata": {
        "colab": {
          "base_uri": "https://localhost:8080/"
        },
        "id": "XjPYv8Igwx2c",
        "outputId": "4c92bd91-a5ed-4a6f-ae05-b533abf5886c"
      },
      "execution_count": null,
      "outputs": [
        {
          "output_type": "stream",
          "name": "stdout",
          "text": [
            "+-------------------+-------+-------+-------+-----+\n",
            "|          timestamp|user_id|book_id|country|price|\n",
            "+-------------------+-------+-------+-------+-----+\n",
            "|2021-05-01 14:41:20|   null|    516| Brazil|27.37|\n",
            "|2021-06-30 02:27:00|   null|   1390|  Japan|27.99|\n",
            "+-------------------+-------+-------+-------+-----+\n",
            "\n"
          ]
        }
      ]
    },
    {
      "cell_type": "code",
      "source": [
        "# ข้อมูลที่เป็นตัวเลข\n",
        "dt.where(dt.price >= 1).show()"
      ],
      "metadata": {
        "id": "vzKgki8azUUH"
      },
      "execution_count": null,
      "outputs": []
    },
    {
      "cell_type": "code",
      "source": [
        "# ข้อมูลที่เป็นตัวหนังสือ\n",
        "dt.where(dt.country == 'Canada').show()"
      ],
      "metadata": {
        "id": "KkZ9WIKlzfvD"
      },
      "execution_count": null,
      "outputs": []
    },
    {
      "cell_type": "code",
      "source": [
        "dt.show(5)"
      ],
      "metadata": {
        "colab": {
          "base_uri": "https://localhost:8080/"
        },
        "id": "71biGRa1ztGT",
        "outputId": "4e9611b4-23e6-4593-8e75-6e6e58bded8a"
      },
      "execution_count": null,
      "outputs": [
        {
          "output_type": "stream",
          "name": "stdout",
          "text": [
            "+-------------------+--------+-------+------------+-----+\n",
            "|          timestamp| user_id|book_id|     country|price|\n",
            "+-------------------+--------+-------+------------+-----+\n",
            "|2021-05-01 08:03:44|824dc295|      2|      Israel|24.95|\n",
            "|2021-05-02 02:48:34|f80fe106|      6|    Thailand|31.49|\n",
            "|2021-05-01 16:54:57|01cb9fe0|      9|       Italy|29.65|\n",
            "|2021-05-01 21:45:28|59508f47|     13|South Africa| 22.4|\n",
            "|2021-05-01 14:50:52|3553ebbb|     14|      Canada| 28.0|\n",
            "+-------------------+--------+-------+------------+-----+\n",
            "only showing top 5 rows\n",
            "\n"
          ]
        }
      ]
    },
    {
      "cell_type": "code",
      "source": [
        "dt.where(dt.timestamp.startswith('2021-04-01')).show()"
      ],
      "metadata": {
        "colab": {
          "base_uri": "https://localhost:8080/"
        },
        "id": "Xa5Gqkyxzz8F",
        "outputId": "70d05f1c-046b-45f1-8b76-b6e26b221ddf"
      },
      "execution_count": null,
      "outputs": [
        {
          "output_type": "stream",
          "name": "stdout",
          "text": [
            "+---------+-------+-------+-------+-----+\n",
            "|timestamp|user_id|book_id|country|price|\n",
            "+---------+-------+-------+-------+-----+\n",
            "+---------+-------+-------+-------+-----+\n",
            "\n"
          ]
        }
      ]
    }
  ]
}